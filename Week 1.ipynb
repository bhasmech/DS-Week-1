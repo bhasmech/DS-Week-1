{
 "cells": [
  {
   "cell_type": "code",
   "execution_count": null,
   "id": "cc14077a-7ae2-4d67-8d4e-936b5411c6ab",
   "metadata": {},
   "outputs": [],
   "source": [
    "Q1. Create one variable containing following type of data:\n",
    "(i) string\n",
    "(ii) list\n",
    "(iii) float\n",
    "(iv) tuple"
   ]
  },
  {
   "cell_type": "code",
   "execution_count": 1,
   "id": "6c3f6936-11a1-412a-89b3-552ed758cf54",
   "metadata": {},
   "outputs": [],
   "source": [
    "string_var = \"Hello, World!\"\n",
    "list_var = [1, 2, 3, 4, 5]\n",
    "float_var = 3.14\n",
    "tuple_var = (10, 20, 30)"
   ]
  },
  {
   "cell_type": "code",
   "execution_count": null,
   "id": "c788b9db-804c-4e31-9d53-3a65172f6c28",
   "metadata": {},
   "outputs": [],
   "source": [
    "Q2. Given are some following variables containing data:\n",
    "(i) var1 = ‘ ‘\n",
    "(ii) var2 = ‘[ DS , ML , Python]’\n",
    "(iii) var3 = [ ‘DS’ , ’ML’ , ‘Python’ ]\n",
    "(iv) var4 = 1."
   ]
  },
  {
   "cell_type": "code",
   "execution_count": 7,
   "id": "a64fcd8b-c788-4efd-8812-fece6ddda37c",
   "metadata": {},
   "outputs": [],
   "source": [
    "var1 = \" \"\n",
    "type_var1 = type(var1)  \n",
    "\n",
    "var2 = \"[ DS , ML , Python]\"\n",
    "type_var2 = type(var2)\n",
    "\n",
    "var3 = [ \"DS\" , \"ML\" , \"Python\" ]\n",
    "type_var3 = type(var3)\n",
    "\n",
    "var4 = 1.\n",
    "type_var4 = type(var4)"
   ]
  },
  {
   "cell_type": "code",
   "execution_count": 9,
   "id": "4303d50e-065a-4358-89c6-1f93b0cb4a77",
   "metadata": {},
   "outputs": [
    {
     "data": {
      "text/plain": [
       "str"
      ]
     },
     "execution_count": 9,
     "metadata": {},
     "output_type": "execute_result"
    }
   ],
   "source": [
    "type_var1"
   ]
  },
  {
   "cell_type": "code",
   "execution_count": 10,
   "id": "3ea7700b-bcc8-496c-8048-9884faf980fc",
   "metadata": {},
   "outputs": [
    {
     "data": {
      "text/plain": [
       "str"
      ]
     },
     "execution_count": 10,
     "metadata": {},
     "output_type": "execute_result"
    }
   ],
   "source": [
    "type_var2"
   ]
  },
  {
   "cell_type": "code",
   "execution_count": 11,
   "id": "e8a23e16-a289-47af-b019-bd4394072eee",
   "metadata": {},
   "outputs": [
    {
     "data": {
      "text/plain": [
       "list"
      ]
     },
     "execution_count": 11,
     "metadata": {},
     "output_type": "execute_result"
    }
   ],
   "source": [
    "type_var3"
   ]
  },
  {
   "cell_type": "code",
   "execution_count": 12,
   "id": "cb271eac-5de0-4b97-a699-2a9979126f43",
   "metadata": {},
   "outputs": [
    {
     "data": {
      "text/plain": [
       "float"
      ]
     },
     "execution_count": 12,
     "metadata": {},
     "output_type": "execute_result"
    }
   ],
   "source": [
    "type_var4"
   ]
  },
  {
   "cell_type": "code",
   "execution_count": null,
   "id": "3d639427-da75-48c9-93e7-ff06043bc589",
   "metadata": {},
   "outputs": [],
   "source": [
    "Q3. Explain the use of the following operators using an example:\n",
    "(i) /\n",
    "(ii) %\n",
    "(iii) //\n",
    "(iv) **"
   ]
  },
  {
   "cell_type": "code",
   "execution_count": 14,
   "id": "6cc4995e-7040-4155-b7b7-006166de7797",
   "metadata": {},
   "outputs": [
    {
     "name": "stdout",
     "output_type": "stream",
     "text": [
      "3.3333333333333335 1 3 8\n"
     ]
    }
   ],
   "source": [
    "division = 10 / 3\n",
    "remainder = 10 % 3  \n",
    "integer_division = 10 // 3 \n",
    "exponential = 2 ** 3 \n",
    "print(division, remainder, integer_division, exponential)"
   ]
  },
  {
   "cell_type": "code",
   "execution_count": null,
   "id": "1a6af51d-3c9c-4009-9eda-bcf23e441c2c",
   "metadata": {},
   "outputs": [],
   "source": [
    "Q4. Create a list of length 10 of your choice containing multiple types of data. Using for loop print the\n",
    "element and its data type."
   ]
  },
  {
   "cell_type": "code",
   "execution_count": 15,
   "id": "1672a540-9ba4-449a-a820-6580dd215834",
   "metadata": {},
   "outputs": [
    {
     "name": "stdout",
     "output_type": "stream",
     "text": [
      "Element: 1, Type: <class 'int'>\n",
      "Element: two, Type: <class 'str'>\n",
      "Element: 3.0, Type: <class 'float'>\n",
      "Element: [4, 5], Type: <class 'list'>\n",
      "Element: six, Type: <class 'str'>\n",
      "Element: 7, Type: <class 'int'>\n",
      "Element: 8.0, Type: <class 'float'>\n",
      "Element: True, Type: <class 'bool'>\n",
      "Element: (9, 10), Type: <class 'tuple'>\n",
      "Element: {'key': 'value'}, Type: <class 'dict'>\n"
     ]
    }
   ],
   "source": [
    "mixed_list = [1, \"two\", 3.0, [4, 5], \"six\", 7, 8.0, True, (9, 10), {'key': 'value'}]\n",
    "for element in mixed_list:\n",
    "    print(f\"Element: {element}, Type: {type(element)}\")"
   ]
  },
  {
   "cell_type": "code",
   "execution_count": null,
   "id": "9633ff1f-fa3c-4468-9c5a-534edfe2cf7e",
   "metadata": {},
   "outputs": [],
   "source": [
    "Q5. Using a while loop, verify if the number A is purely divisible by number B and if so then how many\n",
    "times it can be divisible."
   ]
  },
  {
   "cell_type": "code",
   "execution_count": 16,
   "id": "10fd18f9-6af3-446f-9501-ac2287d8c2bd",
   "metadata": {},
   "outputs": [
    {
     "name": "stdout",
     "output_type": "stream",
     "text": [
      "A is divisible by B 1 times.\n"
     ]
    }
   ],
   "source": [
    "A = 15\n",
    "B = 3\n",
    "count = 0\n",
    "\n",
    "while A % B == 0:\n",
    "    A /= B\n",
    "    count += 1\n",
    "\n",
    "print(f\"A is divisible by B {count} times.\")"
   ]
  },
  {
   "cell_type": "code",
   "execution_count": null,
   "id": "7a543603-ec9d-4506-aadc-4642500be3ab",
   "metadata": {},
   "outputs": [],
   "source": [
    "Q6. Create a list containing 25 int type data. Using for loop and if-else condition print if the element is\n",
    "divisible by 3 or not."
   ]
  },
  {
   "cell_type": "code",
   "execution_count": 17,
   "id": "2e04bfe0-32c2-4f86-b1ee-5e84f175078a",
   "metadata": {},
   "outputs": [
    {
     "name": "stdout",
     "output_type": "stream",
     "text": [
      "1 is not divisible by 3.\n",
      "2 is not divisible by 3.\n",
      "3 is divisible by 3.\n",
      "4 is not divisible by 3.\n",
      "5 is not divisible by 3.\n",
      "6 is divisible by 3.\n",
      "7 is not divisible by 3.\n",
      "8 is not divisible by 3.\n",
      "9 is divisible by 3.\n",
      "10 is not divisible by 3.\n",
      "11 is not divisible by 3.\n",
      "12 is divisible by 3.\n",
      "13 is not divisible by 3.\n",
      "14 is not divisible by 3.\n",
      "15 is divisible by 3.\n",
      "16 is not divisible by 3.\n",
      "17 is not divisible by 3.\n",
      "18 is divisible by 3.\n",
      "19 is not divisible by 3.\n",
      "20 is not divisible by 3.\n",
      "21 is divisible by 3.\n",
      "22 is not divisible by 3.\n",
      "23 is not divisible by 3.\n",
      "24 is divisible by 3.\n",
      "25 is not divisible by 3.\n"
     ]
    }
   ],
   "source": [
    "int_list = [i for i in range(1, 26)]\n",
    "for num in int_list:\n",
    "    if num % 3 == 0:\n",
    "        print(f\"{num} is divisible by 3.\")\n",
    "    else:\n",
    "        print(f\"{num} is not divisible by 3.\")"
   ]
  },
  {
   "cell_type": "code",
   "execution_count": null,
   "id": "2344fa29-a8e7-4d67-a115-9bdc0d3a7942",
   "metadata": {},
   "outputs": [],
   "source": [
    "Q7. What do you understand about mutable and immutable data types? Give examples for both showing\n",
    "this property."
   ]
  },
  {
   "cell_type": "code",
   "execution_count": 18,
   "id": "33f900ad-dcac-4658-b44c-c3caef761508",
   "metadata": {},
   "outputs": [
    {
     "ename": "SyntaxError",
     "evalue": "invalid syntax (624257758.py, line 1)",
     "output_type": "error",
     "traceback": [
      "\u001b[0;36m  Cell \u001b[0;32mIn[18], line 1\u001b[0;36m\u001b[0m\n\u001b[0;31m    // Objects whose value or state can be changed after creation are called mutable.\u001b[0m\n\u001b[0m    ^\u001b[0m\n\u001b[0;31mSyntaxError\u001b[0m\u001b[0;31m:\u001b[0m invalid syntax\n"
     ]
    }
   ],
   "source": [
    "// Objects whose value or state can be changed after creation are called mutable. \n",
    "// Lists and dictionaries are examples of mutable data types.\n",
    "mutable_list = [1, 2, 3]\n",
    "mutable_list[0] = 100\n",
    "print(mutable_list)\n",
    "// Objects whose value or state cannot be changed after creation are called immutable. \n",
    "// Tuples and strings are examples of immutable data types.\n",
    "immutable_tuple = (1, 2, 3)\n",
    "\n"
   ]
  },
  {
   "cell_type": "code",
   "execution_count": null,
   "id": "2b6d3be8-7945-46e3-ac6d-af4ebcdb2734",
   "metadata": {},
   "outputs": [],
   "source": []
  }
 ],
 "metadata": {
  "kernelspec": {
   "display_name": "Python 3 (ipykernel)",
   "language": "python",
   "name": "python3"
  },
  "language_info": {
   "codemirror_mode": {
    "name": "ipython",
    "version": 3
   },
   "file_extension": ".py",
   "mimetype": "text/x-python",
   "name": "python",
   "nbconvert_exporter": "python",
   "pygments_lexer": "ipython3",
   "version": "3.10.8"
  }
 },
 "nbformat": 4,
 "nbformat_minor": 5
}
